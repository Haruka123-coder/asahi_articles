{
 "cells": [
  {
   "cell_type": "code",
   "execution_count": 97,
   "id": "3b2f69be",
   "metadata": {},
   "outputs": [],
   "source": [
    "import requests\n",
    "from bs4 import BeautifulSoup\n",
    "from datetime import datetime\n",
    "import csv\n",
    "from datetime import datetime"
   ]
  },
  {
   "cell_type": "code",
   "execution_count": 98,
   "id": "8195c091",
   "metadata": {},
   "outputs": [],
   "source": [
    "url=\"https://www.asahi.com/?iref=pc_gnavi&_klpuid=GwKq2LGpnkQhX6L36mXkc\"\n",
    "res=requests.get(url)\n",
    "res.encoding=res.apparent_encoding\n",
    "soup=BeautifulSoup(res.text)"
   ]
  },
  {
   "cell_type": "code",
   "execution_count": 99,
   "id": "ec9c4d21",
   "metadata": {},
   "outputs": [],
   "source": [
    "contents=soup.find_all(\"div\",class_=\"l-section p-genre\")\n",
    "# print(len(contents))\n",
    "# print(contents)\n",
    "# content=contents[0]\n",
    "# print(content)\n",
    "# print(len(content))\n"
   ]
  },
  {
   "cell_type": "code",
   "execution_count": 106,
   "id": "fb784c55",
   "metadata": {},
   "outputs": [],
   "source": [
    "rows=[]\n",
    "for content in contents:\n",
    "    boxes = content.find_all(\"div\", class_=\"c-articleModule p-listModule__item\")\n",
    "    for box in boxes:        \n",
    "        title = box.find(\"h2\", class_=\"c-articleModule__title\")\n",
    "        time = box.find(\"time\")\n",
    "        rows.append([\n",
    "            title.text.strip() if title else \"\",\n",
    "            time.text.strip() if time else \"\"\n",
    "        ])\n",
    "#date \n",
    "now=datetime.now().strftime(\"%Y-%m-%d %H:%M:%S\")\n",
    "rows.append([\"scraped at\", now, \"\"])\n",
    "rows.append([\"-----------------------\"]) \n",
    "\n",
    "#CSV output\n",
    "with open (\"asahi_articles.csv\", \"a\", encoding=\"utf-8\", newline=\"\") as f:\n",
    "    writer = csv.writer(f)\n",
    "    writer.writerow([\"title\", \"time\"])\n",
    "    writer.writerows(rows)\n",
    "\n",
    "        "
   ]
  },
  {
   "cell_type": "code",
   "execution_count": null,
   "id": "0daf1f78",
   "metadata": {},
   "outputs": [],
   "source": [
    "\n"
   ]
  },
  {
   "cell_type": "code",
   "execution_count": 101,
   "id": "fb7e481f",
   "metadata": {},
   "outputs": [],
   "source": [
    "# for content in contents:\n",
    "#     boxes = content.find_all(\"div\", class_=\"c-articleModule p-listModule__item\")\n",
    "#     category = box.find(\"h3\")\n",
    "#     for box in boxes:        \n",
    "#         title = box.find(\"h2\", class_=\"c-articleModule__title\")\n",
    "#         time = box.find(\"time\")\n",
    "#         print(category.text.strip() if category else \"\")\n",
    "#         print(\n",
    "#             title.text.strip() if title else \"\",\n",
    "#             time.text.strip() if time else \"\"\n",
    "#         )\n"
   ]
  },
  {
   "cell_type": "code",
   "execution_count": null,
   "id": "f004664d",
   "metadata": {},
   "outputs": [],
   "source": []
  }
 ],
 "metadata": {
  "kernelspec": {
   "display_name": "Python 3",
   "language": "python",
   "name": "python3"
  },
  "language_info": {
   "codemirror_mode": {
    "name": "ipython",
    "version": 3
   },
   "file_extension": ".py",
   "mimetype": "text/x-python",
   "name": "python",
   "nbconvert_exporter": "python",
   "pygments_lexer": "ipython3",
   "version": "3.13.2"
  }
 },
 "nbformat": 4,
 "nbformat_minor": 5
}
